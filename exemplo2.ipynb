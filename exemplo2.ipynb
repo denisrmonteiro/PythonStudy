{
 "cells": [
  {
   "cell_type": "markdown",
   "id": "7a65d24b",
   "metadata": {},
   "source": [
    "Aprendendo Python"
   ]
  },
  {
   "cell_type": "code",
   "execution_count": 1,
   "id": "55e63610",
   "metadata": {},
   "outputs": [
    {
     "name": "stdout",
     "output_type": "stream",
     "text": [
      "Hello World everybody\n"
     ]
    }
   ],
   "source": [
    "print (\"Hello World everybody\")"
   ]
  },
  {
   "cell_type": "markdown",
   "id": "84a460b5",
   "metadata": {},
   "source": [
    "Novo teste"
   ]
  },
  {
   "cell_type": "code",
   "execution_count": 2,
   "id": "e2f4365b",
   "metadata": {},
   "outputs": [
    {
     "data": {
      "text/plain": [
       "7"
      ]
     },
     "execution_count": 2,
     "metadata": {},
     "output_type": "execute_result"
    }
   ],
   "source": [
    "3+4"
   ]
  },
  {
   "cell_type": "code",
   "execution_count": null,
   "id": "050a85a2",
   "metadata": {},
   "outputs": [],
   "source": [
    "5-3"
   ]
  }
 ],
 "metadata": {
  "kernelspec": {
   "display_name": "Python 3",
   "language": "python",
   "name": "python3"
  },
  "language_info": {
   "codemirror_mode": {
    "name": "ipython",
    "version": 3
   },
   "file_extension": ".py",
   "mimetype": "text/x-python",
   "name": "python",
   "nbconvert_exporter": "python",
   "pygments_lexer": "ipython3",
   "version": "3.13.5"
  }
 },
 "nbformat": 4,
 "nbformat_minor": 5
}
